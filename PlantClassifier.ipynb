{
  "nbformat": 4,
  "nbformat_minor": 0,
  "metadata": {
    "colab": {
      "provenance": []
    },
    "kernelspec": {
      "name": "python3",
      "display_name": "Python 3"
    },
    "language_info": {
      "name": "python"
    }
  },
  "cells": [
    {
      "cell_type": "code",
      "metadata": {
        "colab": {
          "base_uri": "https://localhost:8080/"
        },
        "id": "IaOjuSTrzDMw",
        "outputId": "35a4aff6-9626-4ed3-b609-466c4ad125e2"
      },
      "source": [
        "!pip install coremltools"
      ],
      "execution_count": null,
      "outputs": [
        {
          "output_type": "stream",
          "name": "stdout",
          "text": [
            "Collecting coremltools\n",
            "  Downloading coremltools-5.1.0-cp37-none-manylinux1_x86_64.whl (1.6 MB)\n",
            "\u001b[K     |████████████████████████████████| 1.6 MB 5.4 MB/s \n",
            "\u001b[?25hRequirement already satisfied: numpy>=1.14.5 in /usr/local/lib/python3.7/dist-packages (from coremltools) (1.19.5)\n",
            "Requirement already satisfied: packaging in /usr/local/lib/python3.7/dist-packages (from coremltools) (21.3)\n",
            "Requirement already satisfied: sympy in /usr/local/lib/python3.7/dist-packages (from coremltools) (1.7.1)\n",
            "Requirement already satisfied: tqdm in /usr/local/lib/python3.7/dist-packages (from coremltools) (4.62.3)\n",
            "Requirement already satisfied: protobuf>=3.1.0 in /usr/local/lib/python3.7/dist-packages (from coremltools) (3.17.3)\n",
            "Requirement already satisfied: six>=1.9 in /usr/local/lib/python3.7/dist-packages (from protobuf>=3.1.0->coremltools) (1.15.0)\n",
            "Requirement already satisfied: pyparsing!=3.0.5,>=2.0.2 in /usr/local/lib/python3.7/dist-packages (from packaging->coremltools) (3.0.6)\n",
            "Requirement already satisfied: mpmath>=0.19 in /usr/local/lib/python3.7/dist-packages (from sympy->coremltools) (1.2.1)\n",
            "Installing collected packages: coremltools\n",
            "Successfully installed coremltools-5.1.0\n"
          ]
        }
      ]
    },
    {
      "cell_type": "code",
      "metadata": {
        "colab": {
          "base_uri": "https://localhost:8080/"
        },
        "id": "3g9NwnPzzGfG",
        "outputId": "ed38da5e-3580-4cf1-a0e6-9195bd3a4412"
      },
      "source": [
        "# We will import tensorflow and tensorflow hub\n",
        "import tensorflow as tf\n",
        "import tensorflow_hub as hub\n",
        "import coremltools as ct"
      ],
      "execution_count": null,
      "outputs": [
        {
          "output_type": "stream",
          "name": "stderr",
          "text": [
            "WARNING:root:scikit-learn version 1.0.1 is not supported. Minimum required version: 0.17. Maximum required version: 0.19.2. Disabling scikit-learn conversion API.\n",
            "WARNING:root:TensorFlow version 2.7.0 has not been tested with coremltools. You may run into unexpected errors. TensorFlow 2.5.0 is the most recent version that has been tested.\n",
            "WARNING:root:Keras version 2.7.0 has not been tested with coremltools. You may run into unexpected errors. Keras 2.2.4 is the most recent version that has been tested.\n",
            "WARNING:root:Torch version 1.10.0+cu111 has not been tested with coremltools. You may run into unexpected errors. Torch 1.9.1 is the most recent version that has been tested.\n"
          ]
        }
      ]
    },
    {
      "cell_type": "code",
      "metadata": {
        "id": "RjrzqSxnzLmH"
      },
      "source": [
        "MODEL_URL = \"https://tfhub.dev/google/aiy/vision/classifier/plants_V1/1\"\n",
        "# I will post this model URL in the description\n",
        "# You can ofcourse use your own model from TF Hub"
      ],
      "execution_count": null,
      "outputs": []
    },
    {
      "cell_type": "code",
      "metadata": {
        "id": "Af9dCfLfzUlP"
      },
      "source": [
        "model = tf.keras.Sequential([\n",
        "                             tf.keras.layers.InputLayer(input_shape=(224, 224, 3)),\n",
        "                             hub.KerasLayer(MODEL_URL)\n",
        "]) # Our model requires an input of 224x224. \n",
        "# hub.KerasLayer is a tfhub function that loads in a tfhub model"
      ],
      "execution_count": null,
      "outputs": []
    },
    {
      "cell_type": "code",
      "metadata": {
        "id": "nxDYS2WEzh8Z"
      },
      "source": [
        "model.build([1, 224, 224, 3])"
      ],
      "execution_count": null,
      "outputs": []
    },
    {
      "cell_type": "code",
      "metadata": {
        "id": "1FQcSROLzlvz"
      },
      "source": [
        "# Let's test the model on a random item to see it works\n",
        "import numpy as np"
      ],
      "execution_count": null,
      "outputs": []
    },
    {
      "cell_type": "code",
      "metadata": {
        "id": "fmbV1I-pzo0d"
      },
      "source": [
        "x = np.random.rand(1, 224, 224, 3)\n",
        "tf_out = model.predict([x])\n",
        "# x is already \"pre-processsed\", it is 224x224, and it is scaled from [0, 1]\n",
        "# if you were to use your own custom images, you would have to preprocess it manually"
      ],
      "execution_count": null,
      "outputs": []
    },
    {
      "cell_type": "code",
      "metadata": {
        "colab": {
          "base_uri": "https://localhost:8080/"
        },
        "id": "S8Wb7M8Bz0cq",
        "outputId": "29e89f23-b1b6-48e3-8090-ee6baf852f55"
      },
      "source": [
        "# there is no error, the model works. Let's check the output shape\n",
        "tf_out.shape"
      ],
      "execution_count": null,
      "outputs": [
        {
          "output_type": "execute_result",
          "data": {
            "text/plain": [
              "(1, 2102)"
            ]
          },
          "metadata": {},
          "execution_count": 8
        }
      ]
    },
    {
      "cell_type": "code",
      "metadata": {
        "id": "3FUoEo_kz4C_"
      },
      "source": [
        "# This model ahs 2102 classes, your model might have more or less"
      ],
      "execution_count": null,
      "outputs": []
    },
    {
      "cell_type": "code",
      "metadata": {
        "colab": {
          "base_uri": "https://localhost:8080/"
        },
        "id": "yFTZzyJCz72i",
        "outputId": "6b8d1444-b55c-4f0d-e91a-b3a1a38e984f"
      },
      "source": [
        "# Let's convert this to CoreML\n",
        "mlmodel = ct.convert(model,\n",
        "                     inputs=[ct.ImageType(scale=1/127, shape=[1, 224, 224, 3])])"
      ],
      "execution_count": null,
      "outputs": [
        {
          "output_type": "stream",
          "name": "stderr",
          "text": [
            "Running TensorFlow Graph Passes: 100%|██████████| 5/5 [00:00<00:00,  6.64 passes/s]\n",
            "Converting Frontend ==> MIL Ops: 100%|██████████| 462/462 [00:01<00:00, 280.38 ops/s] \n",
            "Running MIL Common passes: 100%|██████████| 34/34 [00:02<00:00, 14.34 passes/s]\n",
            "Running MIL Clean up passes: 100%|██████████| 9/9 [00:00<00:00, 40.79 passes/s]\n",
            "Translating MIL ==> NeuralNetwork Ops: 100%|██████████| 1097/1097 [00:00<00:00, 1370.65 ops/s]\n"
          ]
        }
      ]
    },
    {
      "cell_type": "code",
      "metadata": {
        "id": "ZFS_55UV0JEm"
      },
      "source": [
        "# We use the univeral coreml model converter. Now, we just have to save it\n",
        "mlmodel.save(\"PlantModel.mlmodel\")\n",
        "# our model type is \"mlmodel\". You can then load this into xcode and implement this in your app"
      ],
      "execution_count": null,
      "outputs": []
    },
    {
      "cell_type": "code",
      "metadata": {
        "id": "CdROI0zo0XH_"
      },
      "source": [
        "#That's it for this one."
      ],
      "execution_count": null,
      "outputs": []
    }
  ]
}